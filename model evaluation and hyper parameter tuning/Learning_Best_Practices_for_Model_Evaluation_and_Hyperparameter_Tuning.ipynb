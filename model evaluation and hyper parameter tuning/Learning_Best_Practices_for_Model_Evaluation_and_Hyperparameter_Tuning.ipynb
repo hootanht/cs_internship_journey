{
  "nbformat": 4,
  "nbformat_minor": 0,
  "metadata": {
    "colab": {
      "provenance": []
    },
    "kernelspec": {
      "name": "python3",
      "display_name": "Python 3"
    },
    "language_info": {
      "name": "python"
    }
  },
  "cells": [
    {
      "cell_type": "markdown",
      "source": [
        "# Streamlining workflows with pipelines"
      ],
      "metadata": {
        "id": "K1JTWEmUbiTN"
      }
    },
    {
      "cell_type": "markdown",
      "source": [
        "1-Obtaining the Breast Cancer Wisconsin dataset"
      ],
      "metadata": {
        "id": "x83tXRJdb9Dq"
      }
    },
    {
      "cell_type": "code",
      "execution_count": 2,
      "metadata": {
        "id": "sFmyCgapargD"
      },
      "outputs": [],
      "source": [
        "import pandas as pd\n",
        "df = pd.read_csv(\n",
        " 'https://archive.ics.uci.edu/ml/'\n",
        " 'machine-learning-databases'\n",
        " '/breast-cancer-wisconsin/wdbc.data',\n",
        " header=None)"
      ]
    },
    {
      "cell_type": "markdown",
      "source": [
        "2-Next, we will assign the 30 features to a NumPy array, X. Using\n",
        "a LabelEncoder object, we will transform the class labels from their\n",
        "original string representation ('M' and 'B') into integers:"
      ],
      "metadata": {
        "id": "6JPxBQ2kcO0u"
      }
    },
    {
      "cell_type": "code",
      "source": [
        "from sklearn.preprocessing import LabelEncoder\n",
        "\n",
        "X=df.loc[:, 2:].values\n",
        "y=df.loc[:, 1].values\n",
        "le=LabelEncoder()\n",
        "y=le.fit_transform(y)\n",
        "le.classes_"
      ],
      "metadata": {
        "colab": {
          "base_uri": "https://localhost:8080/"
        },
        "id": "A3T5ew1CcN1s",
        "outputId": "b56b18ce-10b0-4b05-a014-85ec42a73b0d"
      },
      "execution_count": 4,
      "outputs": [
        {
          "output_type": "execute_result",
          "data": {
            "text/plain": [
              "array(['B', 'M'], dtype=object)"
            ]
          },
          "metadata": {},
          "execution_count": 4
        }
      ]
    },
    {
      "cell_type": "code",
      "source": [
        "le.transform(['M', 'B'])"
      ],
      "metadata": {
        "colab": {
          "base_uri": "https://localhost:8080/"
        },
        "id": "Kz5ybPKUcmy1",
        "outputId": "5012cf94-fa81-460c-b01b-39c82a01b317"
      },
      "execution_count": 5,
      "outputs": [
        {
          "output_type": "execute_result",
          "data": {
            "text/plain": [
              "array([1, 0])"
            ]
          },
          "metadata": {},
          "execution_count": 5
        }
      ]
    },
    {
      "cell_type": "markdown",
      "source": [
        "3-train and test split"
      ],
      "metadata": {
        "id": "HaDLJlkCdTii"
      }
    },
    {
      "cell_type": "code",
      "source": [
        "from sklearn.model_selection import train_test_split\n",
        "X_train, X_test, y_train, y_test= train_test_split(X, y, test_size=0.20, stratify=y, random_state=1)"
      ],
      "metadata": {
        "id": "2Z3EtN5mc0hK"
      },
      "execution_count": 7,
      "outputs": []
    },
    {
      "cell_type": "markdown",
      "source": [
        "Instead of going through the model fitting and data transformation steps for the\n",
        "training and test datasets separately, we can chain the StandardScaler, PCA,\n",
        "and LogisticRegression objects in a pipeline:"
      ],
      "metadata": {
        "id": "wJ3XENYoejfI"
      }
    },
    {
      "cell_type": "code",
      "source": [
        "from sklearn.preprocessing import StandardScaler\n",
        "from sklearn.decomposition import PCA\n",
        "from sklearn.linear_model import LogisticRegression\n",
        "from sklearn.pipeline import make_pipeline\n",
        "pipe_lr=make_pipeline(StandardScaler(),\n",
        "                      PCA(n_components=2),\n",
        "                          LogisticRegression(random_state=1,\n",
        "                                             solver='lbfgs'))\n",
        "pipe_lr.fit(X_train, y_train)\n",
        "y_pred=pipe_lr.predict(X_test)\n",
        "print('Test Accuracy: %.3f' % pipe_lr.score(X_test, y_test))"
      ],
      "metadata": {
        "colab": {
          "base_uri": "https://localhost:8080/"
        },
        "id": "BZq5OqV4dyON",
        "outputId": "03e1b126-0685-44c4-c436-4d81ea3e3480"
      },
      "execution_count": 10,
      "outputs": [
        {
          "output_type": "stream",
          "name": "stdout",
          "text": [
            "Test Accuracy: 0.956\n"
          ]
        }
      ]
    }
  ]
}