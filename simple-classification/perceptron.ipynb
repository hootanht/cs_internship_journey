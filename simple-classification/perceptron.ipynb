{
  "nbformat": 4,
  "nbformat_minor": 0,
  "metadata": {
    "colab": {
      "provenance": []
    },
    "kernelspec": {
      "name": "python3",
      "display_name": "Python 3"
    },
    "language_info": {
      "name": "python"
    }
  },
  "cells": [
    {
      "cell_type": "code",
      "execution_count": null,
      "metadata": {
        "id": "XJ9hgtLViFqv"
      },
      "outputs": [],
      "source": [
        "import numpy as np\n",
        "\n",
        "class Perceptron(object):\n",
        "\n",
        "  def __init__(self, eta=0.01, n_iter=50, random_state=1):\n",
        "    self.eta=eta\n",
        "    self.n_iter=n_iter\n",
        "    self.random_state=random_state\n",
        "\n",
        "  def fit(self, X, y):\n",
        "    rgen = np.random.RandomState(self.random_state)\n",
        "    self.w_=rgen.normal(loc=0.0, scale=0.01, size=1+X.shape[1])\n",
        "    self.errors_=[]\n",
        "\n",
        "    for _ in range(self.n_iter):\n",
        "      errors=0\n",
        "\n",
        "      for xi, target in zip(X, y):\n",
        "        update=self.eta * (target - self.predict(xi))\n",
        "        self.w_[1:]+=update *xi\n",
        "        self.w_[0]+=update\n",
        "        errors+= int(update!=0.0)\n",
        "\n",
        "      self.errors_.append(errors)\n",
        "    return self\n",
        "\n",
        "\n",
        "  def net_input(self,X):\n",
        "    return np.dot(X, self.w_[1:]) +self.w_[0]\n",
        "\n",
        "  def predict(self,X):\n",
        "    return np.where(self.net_input(X)>=0.0, 1, -1)\n",
        "\n"
      ]
    }
  ]
}