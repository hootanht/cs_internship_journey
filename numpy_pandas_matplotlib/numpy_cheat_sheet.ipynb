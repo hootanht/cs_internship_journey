{
  "nbformat": 4,
  "nbformat_minor": 0,
  "metadata": {
    "colab": {
      "provenance": []
    },
    "kernelspec": {
      "name": "python3",
      "display_name": "Python 3"
    },
    "language_info": {
      "name": "python"
    }
  },
  "cells": [
    {
      "cell_type": "code",
      "execution_count": 1,
      "metadata": {
        "id": "dDBoGD5Tj_XB"
      },
      "outputs": [],
      "source": [
        "import numpy as np"
      ]
    },
    {
      "cell_type": "markdown",
      "source": [
        "# Generating array"
      ],
      "metadata": {
        "id": "k2jTeiY2kTtL"
      }
    },
    {
      "cell_type": "code",
      "source": [
        "np.array([1,1.5,2])"
      ],
      "metadata": {
        "colab": {
          "base_uri": "https://localhost:8080/"
        },
        "id": "84dsEN_FkOUv",
        "outputId": "6fa67088-ab51-4cca-8bc3-38b57eafc7da"
      },
      "execution_count": 2,
      "outputs": [
        {
          "output_type": "execute_result",
          "data": {
            "text/plain": [
              "array([1. , 1.5, 2. ])"
            ]
          },
          "metadata": {},
          "execution_count": 2
        }
      ]
    },
    {
      "cell_type": "code",
      "source": [
        "# Generate an array of 5 numbers evenly spaced between 0 and 1\n",
        "np.linspace(0,1,5)"
      ],
      "metadata": {
        "colab": {
          "base_uri": "https://localhost:8080/"
        },
        "id": "Kt8PoAjMmQCx",
        "outputId": "13abf0b9-3200-46a0-c90f-8f94b348e6b0"
      },
      "execution_count": 3,
      "outputs": [
        {
          "output_type": "execute_result",
          "data": {
            "text/plain": [
              "array([0.  , 0.25, 0.5 , 0.75, 1.  ])"
            ]
          },
          "metadata": {},
          "execution_count": 3
        }
      ]
    },
    {
      "cell_type": "code",
      "source": [
        "#Generate an array of values from 0 to 1 with a step of 0.25\n",
        "np.arange(0,1,0.25)"
      ],
      "metadata": {
        "colab": {
          "base_uri": "https://localhost:8080/"
        },
        "id": "sU-sQMIdowZi",
        "outputId": "c28009af-7581-4a92-984a-c5ad066440aa"
      },
      "execution_count": 5,
      "outputs": [
        {
          "output_type": "execute_result",
          "data": {
            "text/plain": [
              "array([0.  , 0.25, 0.5 , 0.75])"
            ]
          },
          "metadata": {},
          "execution_count": 5
        }
      ]
    },
    {
      "cell_type": "code",
      "source": [
        "#Create array of shape (3,4)\n",
        "np.zeros((3,4))# all elements are 0\n",
        "np.ones((3,4))# all elements are 1\n",
        "np.full((3,4),2)# all elements are 2"
      ],
      "metadata": {
        "colab": {
          "base_uri": "https://localhost:8080/"
        },
        "id": "HWzRZ0goo0nb",
        "outputId": "cdeed330-c8fe-46a0-cbac-3418b435d8da"
      },
      "execution_count": 6,
      "outputs": [
        {
          "output_type": "execute_result",
          "data": {
            "text/plain": [
              "array([[2, 2, 2, 2],\n",
              "       [2, 2, 2, 2],\n",
              "       [2, 2, 2, 2]])"
            ]
          },
          "metadata": {},
          "execution_count": 6
        }
      ]
    },
    {
      "cell_type": "code",
      "source": [
        "#3*3 identity matrix\n",
        "np.eye(3)"
      ],
      "metadata": {
        "colab": {
          "base_uri": "https://localhost:8080/"
        },
        "id": "w4jM7GddqWv1",
        "outputId": "57124f71-3d55-41d8-c18f-71a8d9292252"
      },
      "execution_count": 7,
      "outputs": [
        {
          "output_type": "execute_result",
          "data": {
            "text/plain": [
              "array([[1., 0., 0.],\n",
              "       [0., 1., 0.],\n",
              "       [0., 0., 1.]])"
            ]
          },
          "metadata": {},
          "execution_count": 7
        }
      ]
    },
    {
      "cell_type": "markdown",
      "source": [
        "## make random arrays"
      ],
      "metadata": {
        "id": "XPwvP1TQqfRY"
      }
    },
    {
      "cell_type": "code",
      "source": [
        "#generates a 2-dimensional NumPy array of shape 3×4 with random floating-point numbers drawn from a uniform distribution over [0,1)\n",
        "np.random.random((3,4))"
      ],
      "metadata": {
        "colab": {
          "base_uri": "https://localhost:8080/"
        },
        "id": "OZZQ6xLFqdCO",
        "outputId": "4fc3c6a2-4423-4831-ef8d-23d2ced723fa"
      },
      "execution_count": 8,
      "outputs": [
        {
          "output_type": "execute_result",
          "data": {
            "text/plain": [
              "array([[0.04341792, 0.87705392, 0.9731919 , 0.52707738],\n",
              "       [0.12185121, 0.5587983 , 0.65478744, 0.98547099],\n",
              "       [0.72578091, 0.77156466, 0.89658783, 0.44325858]])"
            ]
          },
          "metadata": {},
          "execution_count": 8
        }
      ]
    },
    {
      "cell_type": "code",
      "source": [
        "#generates a 2-dimensional numpy array of shape 3*4 filled with random integers drawn from a uniform distribution over the range [0,10)\n",
        "np.random.randint(10,size=(3,4))"
      ],
      "metadata": {
        "colab": {
          "base_uri": "https://localhost:8080/"
        },
        "id": "NyrhfG3UryKU",
        "outputId": "299c9c01-6d59-4e60-efbb-c2d85a5183de"
      },
      "execution_count": 9,
      "outputs": [
        {
          "output_type": "execute_result",
          "data": {
            "text/plain": [
              "array([[5, 9, 5, 0],\n",
              "       [7, 1, 1, 8],\n",
              "       [8, 9, 4, 1]])"
            ]
          },
          "metadata": {},
          "execution_count": 9
        }
      ]
    },
    {
      "cell_type": "code",
      "source": [
        "#array of shape 3*4 with random floating-point numbers drawn from the standard normal distribution with mean of 0 and a standard deviation of 1\n",
        "np.random.randn(3,4)"
      ],
      "metadata": {
        "colab": {
          "base_uri": "https://localhost:8080/"
        },
        "id": "KWFO7Dtor2e9",
        "outputId": "fa63f148-a5d0-41b1-a647-3c73d4fb0242"
      },
      "execution_count": 10,
      "outputs": [
        {
          "output_type": "execute_result",
          "data": {
            "text/plain": [
              "array([[ 0.71345585, -0.32953428, -0.1951781 , -0.54329634],\n",
              "       [ 0.05834573,  0.55924864, -0.24102171, -0.72100016],\n",
              "       [-0.53781509, -0.87246574,  1.39742137,  1.07052728]])"
            ]
          },
          "metadata": {},
          "execution_count": 10
        }
      ]
    },
    {
      "cell_type": "code",
      "source": [
        "#array of shape 3×4 without initializing the entries.\n",
        "np.empty((3,4))"
      ],
      "metadata": {
        "colab": {
          "base_uri": "https://localhost:8080/"
        },
        "id": "dQj5thrEst7A",
        "outputId": "16aabaf1-f6d3-42f5-d533-ab540de4027b"
      },
      "execution_count": 11,
      "outputs": [
        {
          "output_type": "execute_result",
          "data": {
            "text/plain": [
              "array([[0.71345585, 0.32953428, 0.1951781 , 0.54329634],\n",
              "       [0.05834573, 0.55924864, 0.24102171, 0.72100016],\n",
              "       [0.53781509, 0.87246574, 1.39742137, 1.07052728]])"
            ]
          },
          "metadata": {},
          "execution_count": 11
        }
      ]
    },
    {
      "cell_type": "code",
      "source": [
        "a=np.array([1,2])\n",
        "b=np.array([3,4,5])\n",
        "np.meshgrid(a,b)\n",
        "#output:[X,Y]\n",
        "#X: Each row is a copy of a (the first input array).\n",
        "#Y: Each column is a copy of b (the second input array)."
      ],
      "metadata": {
        "colab": {
          "base_uri": "https://localhost:8080/"
        },
        "id": "pFBGvDo2tIIb",
        "outputId": "dfb3614b-aecd-4bae-aa4a-22f17424e901"
      },
      "execution_count": 13,
      "outputs": [
        {
          "output_type": "execute_result",
          "data": {
            "text/plain": [
              "[array([[1, 2],\n",
              "        [1, 2],\n",
              "        [1, 2]]),\n",
              " array([[3, 3],\n",
              "        [4, 4],\n",
              "        [5, 5]])]"
            ]
          },
          "metadata": {},
          "execution_count": 13
        }
      ]
    },
    {
      "cell_type": "markdown",
      "source": [
        "# Inspecting array"
      ],
      "metadata": {
        "id": "eJtlKVmw0VvI"
      }
    },
    {
      "cell_type": "code",
      "source": [
        "A=np.random.randn(3,4)\n",
        "shape=A.shape\n",
        "size=A.size\n",
        "len=len(A)\n",
        "dimentions=A.ndim\n",
        "dtype=a.dtype\n",
        "\n",
        "print(f'shape: {shape}')\n",
        "print(f'size: {size}')\n",
        "print(f'len: {len}')\n",
        "print(f'dimentions: {dimentions}')\n",
        "print(f'dtype: {dtype}')"
      ],
      "metadata": {
        "colab": {
          "base_uri": "https://localhost:8080/"
        },
        "id": "Jq5wzCru0TaH",
        "outputId": "2f100909-98eb-44a3-c5a4-fc32c917c524"
      },
      "execution_count": 14,
      "outputs": [
        {
          "output_type": "stream",
          "name": "stdout",
          "text": [
            "shape: (3, 4)\n",
            "size: 12\n",
            "len: 3\n",
            "dimentions: 2\n",
            "dtype: int64\n"
          ]
        }
      ]
    },
    {
      "cell_type": "code",
      "source": [
        "#Copy of the array, cast to a specified type.\n",
        "x = np.array([1, 2, 2.5])\n",
        "x.astype(int)"
      ],
      "metadata": {
        "colab": {
          "base_uri": "https://localhost:8080/"
        },
        "id": "wiWAxZhrufYT",
        "outputId": "c29ab896-195e-4180-a459-bc758dbeb65b"
      },
      "execution_count": 19,
      "outputs": [
        {
          "output_type": "execute_result",
          "data": {
            "text/plain": [
              "array([1, 2, 2])"
            ]
          },
          "metadata": {},
          "execution_count": 19
        }
      ]
    },
    {
      "cell_type": "markdown",
      "source": [
        "# Vector dot-product/Matrix multiplication"
      ],
      "metadata": {
        "id": "W6mkGxj810gE"
      }
    },
    {
      "cell_type": "code",
      "source": [
        "# Define two 2-D arrays\n",
        "A = np.array([[1, 2], [3, 4]])\n",
        "B = np.array([[5, 6], [7, 8]])\n",
        "\n",
        "#all three cells below are idintical"
      ],
      "metadata": {
        "id": "usA7iVaU0909"
      },
      "execution_count": 22,
      "outputs": []
    },
    {
      "cell_type": "code",
      "source": [
        "A @ B #matrix multiplication"
      ],
      "metadata": {
        "colab": {
          "base_uri": "https://localhost:8080/"
        },
        "id": "X9WEawkS3Fvd",
        "outputId": "2138668b-7284-465b-a991-77261e7dff02"
      },
      "execution_count": 23,
      "outputs": [
        {
          "output_type": "execute_result",
          "data": {
            "text/plain": [
              "array([[19, 22],\n",
              "       [43, 50]])"
            ]
          },
          "metadata": {},
          "execution_count": 23
        }
      ]
    },
    {
      "cell_type": "code",
      "source": [
        "np.matmul(A,B) #matrix multiplication"
      ],
      "metadata": {
        "colab": {
          "base_uri": "https://localhost:8080/"
        },
        "id": "XBHQDin83v6m",
        "outputId": "b41a3a07-e2ed-45e8-f87b-881d65fedb3f"
      },
      "execution_count": 24,
      "outputs": [
        {
          "output_type": "execute_result",
          "data": {
            "text/plain": [
              "array([[19, 22],\n",
              "       [43, 50]])"
            ]
          },
          "metadata": {},
          "execution_count": 24
        }
      ]
    },
    {
      "cell_type": "code",
      "source": [
        "np.dot(A,B) #matrix multiplication"
      ],
      "metadata": {
        "colab": {
          "base_uri": "https://localhost:8080/"
        },
        "id": "sI4y_F4b364_",
        "outputId": "c7b32762-0601-41a5-a20b-789955adc0aa"
      },
      "execution_count": 25,
      "outputs": [
        {
          "output_type": "execute_result",
          "data": {
            "text/plain": [
              "array([[19, 22],\n",
              "       [43, 50]])"
            ]
          },
          "metadata": {},
          "execution_count": 25
        }
      ]
    },
    {
      "cell_type": "markdown",
      "source": [
        "# Element-Wise operations"
      ],
      "metadata": {
        "id": "7tbWI6jD4Uca"
      }
    },
    {
      "cell_type": "code",
      "source": [
        "A+B\n",
        "# np.add(A,B)"
      ],
      "metadata": {
        "colab": {
          "base_uri": "https://localhost:8080/"
        },
        "id": "quBuAq4A39GL",
        "outputId": "8f50c953-f7b8-499d-ad99-a401be3a089f"
      },
      "execution_count": 26,
      "outputs": [
        {
          "output_type": "execute_result",
          "data": {
            "text/plain": [
              "array([[ 6,  8],\n",
              "       [10, 12]])"
            ]
          },
          "metadata": {},
          "execution_count": 26
        }
      ]
    },
    {
      "cell_type": "code",
      "source": [
        "A-B\n",
        "# np.subtract(A,B)"
      ],
      "metadata": {
        "colab": {
          "base_uri": "https://localhost:8080/"
        },
        "id": "dAdOL3ta4b6y",
        "outputId": "d77639e8-6098-42d1-b97e-538fdaf9b706"
      },
      "execution_count": 27,
      "outputs": [
        {
          "output_type": "execute_result",
          "data": {
            "text/plain": [
              "array([[-4, -4],\n",
              "       [-4, -4]])"
            ]
          },
          "metadata": {},
          "execution_count": 27
        }
      ]
    },
    {
      "cell_type": "code",
      "source": [
        "A*B\n",
        "# np.multiply(A,B)"
      ],
      "metadata": {
        "colab": {
          "base_uri": "https://localhost:8080/"
        },
        "id": "Q3_BqTaq4dkv",
        "outputId": "46a83bc8-605d-4fce-bc67-6d0f16b3b38e"
      },
      "execution_count": 28,
      "outputs": [
        {
          "output_type": "execute_result",
          "data": {
            "text/plain": [
              "array([[ 5, 12],\n",
              "       [21, 32]])"
            ]
          },
          "metadata": {},
          "execution_count": 28
        }
      ]
    },
    {
      "cell_type": "code",
      "source": [
        "A/B\n",
        "# np.divide(A,B)"
      ],
      "metadata": {
        "colab": {
          "base_uri": "https://localhost:8080/"
        },
        "id": "plnQ4Meu4gFB",
        "outputId": "ab5f1ab4-5a4d-475b-b1b8-f41eab65358c"
      },
      "execution_count": 29,
      "outputs": [
        {
          "output_type": "execute_result",
          "data": {
            "text/plain": [
              "array([[0.2       , 0.33333333],\n",
              "       [0.42857143, 0.5       ]])"
            ]
          },
          "metadata": {},
          "execution_count": 29
        }
      ]
    },
    {
      "cell_type": "code",
      "source": [
        "A//B\n",
        "# np.floor_divide(A,B)"
      ],
      "metadata": {
        "colab": {
          "base_uri": "https://localhost:8080/"
        },
        "id": "mXICFRmO4jo-",
        "outputId": "6b698b74-5483-4d12-db16-d73c8bfcfb03"
      },
      "execution_count": 30,
      "outputs": [
        {
          "output_type": "execute_result",
          "data": {
            "text/plain": [
              "array([[0, 0],\n",
              "       [0, 0]])"
            ]
          },
          "metadata": {},
          "execution_count": 30
        }
      ]
    },
    {
      "cell_type": "code",
      "source": [
        "A%B\n",
        "# np.mod(A,B)"
      ],
      "metadata": {
        "colab": {
          "base_uri": "https://localhost:8080/"
        },
        "id": "Xl6O0Fou4mue",
        "outputId": "5372d253-0133-4714-f61e-6a399b5b0d9d"
      },
      "execution_count": 31,
      "outputs": [
        {
          "output_type": "execute_result",
          "data": {
            "text/plain": [
              "array([[1, 2],\n",
              "       [3, 4]])"
            ]
          },
          "metadata": {},
          "execution_count": 31
        }
      ]
    },
    {
      "cell_type": "code",
      "source": [
        "A**B\n",
        "# np.power(A,B)"
      ],
      "metadata": {
        "colab": {
          "base_uri": "https://localhost:8080/"
        },
        "id": "ggs4y4Gz4svM",
        "outputId": "770c0200-d4bb-4b71-cce4-eef6a3d2dfa2"
      },
      "execution_count": 32,
      "outputs": [
        {
          "output_type": "execute_result",
          "data": {
            "text/plain": [
              "array([[    1,    64],\n",
              "       [ 2187, 65536]])"
            ]
          },
          "metadata": {},
          "execution_count": 32
        }
      ]
    },
    {
      "cell_type": "code",
      "source": [
        "A==B\n",
        "# np.equal(A,B)"
      ],
      "metadata": {
        "colab": {
          "base_uri": "https://localhost:8080/"
        },
        "id": "Do0qtCMm4uL_",
        "outputId": "35c25a70-f8d6-4a55-a377-fb2bf0a2c1b6"
      },
      "execution_count": 33,
      "outputs": [
        {
          "output_type": "execute_result",
          "data": {
            "text/plain": [
              "array([[False, False],\n",
              "       [False, False]])"
            ]
          },
          "metadata": {},
          "execution_count": 33
        }
      ]
    },
    {
      "cell_type": "code",
      "source": [
        "A!=B\n",
        "# np.not_equal(A,B)"
      ],
      "metadata": {
        "colab": {
          "base_uri": "https://localhost:8080/"
        },
        "id": "yaCCnNGB4v0-",
        "outputId": "864f0c66-4d43-4f07-9110-76534525e6ee"
      },
      "execution_count": 34,
      "outputs": [
        {
          "output_type": "execute_result",
          "data": {
            "text/plain": [
              "array([[ True,  True],\n",
              "       [ True,  True]])"
            ]
          },
          "metadata": {},
          "execution_count": 34
        }
      ]
    },
    {
      "cell_type": "code",
      "source": [
        "A>B\n",
        "# np.greater(A,B)"
      ],
      "metadata": {
        "colab": {
          "base_uri": "https://localhost:8080/"
        },
        "id": "i5un2CXx4zKQ",
        "outputId": "3f259133-62ff-4be7-8524-079f56b1bf77"
      },
      "execution_count": 35,
      "outputs": [
        {
          "output_type": "execute_result",
          "data": {
            "text/plain": [
              "array([[False, False],\n",
              "       [False, False]])"
            ]
          },
          "metadata": {},
          "execution_count": 35
        }
      ]
    },
    {
      "cell_type": "code",
      "source": [
        "A>=B\n",
        "# np.greater_equal(A,B)"
      ],
      "metadata": {
        "colab": {
          "base_uri": "https://localhost:8080/"
        },
        "id": "HyjxaXua5U3y",
        "outputId": "ac05c9cd-148d-4cf2-9874-40015ce74117"
      },
      "execution_count": 36,
      "outputs": [
        {
          "output_type": "execute_result",
          "data": {
            "text/plain": [
              "array([[False, False],\n",
              "       [False, False]])"
            ]
          },
          "metadata": {},
          "execution_count": 36
        }
      ]
    },
    {
      "cell_type": "code",
      "source": [
        "A<B\n",
        "# np.less(A,B)"
      ],
      "metadata": {
        "colab": {
          "base_uri": "https://localhost:8080/"
        },
        "id": "vnT5NjQE5XeL",
        "outputId": "7c4066dd-3b84-4702-8dbf-c79b538b6713"
      },
      "execution_count": 37,
      "outputs": [
        {
          "output_type": "execute_result",
          "data": {
            "text/plain": [
              "array([[ True,  True],\n",
              "       [ True,  True]])"
            ]
          },
          "metadata": {},
          "execution_count": 37
        }
      ]
    },
    {
      "cell_type": "code",
      "source": [
        "A<=B\n",
        "# np.less_equal(A,B)"
      ],
      "metadata": {
        "colab": {
          "base_uri": "https://localhost:8080/"
        },
        "id": "QeScXgcE5Zlp",
        "outputId": "5db61f90-c6ce-4bda-95e3-9e06e0917991"
      },
      "execution_count": 39,
      "outputs": [
        {
          "output_type": "execute_result",
          "data": {
            "text/plain": [
              "array([[ True,  True],\n",
              "       [ True,  True]])"
            ]
          },
          "metadata": {},
          "execution_count": 39
        }
      ]
    },
    {
      "cell_type": "code",
      "source": [
        "#returns a boolean array of the same shape as A, where each element is True if the corresponding element in A is NaN, and False otherwise.\n",
        "np.isnan(A)"
      ],
      "metadata": {
        "colab": {
          "base_uri": "https://localhost:8080/"
        },
        "id": "Dt35N1YA5amL",
        "outputId": "269957f8-a368-4483-ed60-f80e10ce5093"
      },
      "execution_count": 40,
      "outputs": [
        {
          "output_type": "execute_result",
          "data": {
            "text/plain": [
              "array([[False, False],\n",
              "       [False, False]])"
            ]
          },
          "metadata": {},
          "execution_count": 40
        }
      ]
    },
    {
      "cell_type": "code",
      "source": [
        "#ceiling, floor, and roundig to 2 d.p\n",
        "# np.ceil(A)\n",
        "# np.floor(A)\n",
        "# np.round(A,2)"
      ],
      "metadata": {
        "colab": {
          "base_uri": "https://localhost:8080/"
        },
        "id": "cApJfY-_54xX",
        "outputId": "9b4c5ef5-586c-41d3-cad2-2838c57ffe5a"
      },
      "execution_count": 44,
      "outputs": [
        {
          "output_type": "execute_result",
          "data": {
            "text/plain": [
              "array([[1, 2],\n",
              "       [3, 4]])"
            ]
          },
          "metadata": {},
          "execution_count": 44
        }
      ]
    },
    {
      "cell_type": "code",
      "source": [
        "#clip to between lower and upper bound\n",
        "a = np.arange(10)\n",
        "a"
      ],
      "metadata": {
        "colab": {
          "base_uri": "https://localhost:8080/"
        },
        "id": "-lXbh5Rc6SS5",
        "outputId": "b917b30c-0d33-4c1b-c007-9fa4566af51a"
      },
      "execution_count": 47,
      "outputs": [
        {
          "output_type": "execute_result",
          "data": {
            "text/plain": [
              "array([0, 1, 2, 3, 4, 5, 6, 7, 8, 9])"
            ]
          },
          "metadata": {},
          "execution_count": 47
        }
      ]
    },
    {
      "cell_type": "code",
      "source": [
        "np.clip(a, 1, 8)"
      ],
      "metadata": {
        "colab": {
          "base_uri": "https://localhost:8080/"
        },
        "id": "O2f8nf4O6vjX",
        "outputId": "191e8fcd-4861-487c-f6d2-ae84b31885df"
      },
      "execution_count": 48,
      "outputs": [
        {
          "output_type": "execute_result",
          "data": {
            "text/plain": [
              "array([1, 1, 2, 3, 4, 5, 6, 7, 8, 8])"
            ]
          },
          "metadata": {},
          "execution_count": 48
        }
      ]
    },
    {
      "cell_type": "markdown",
      "source": [
        "# Aggregate operations"
      ],
      "metadata": {
        "id": "X7cs6xLV754H"
      }
    },
    {
      "cell_type": "code",
      "source": [
        "#All can take argument 'axis=0' to aggregate along an axis. Otherwise aggregate on flattened array\n",
        "A.mean()"
      ],
      "metadata": {
        "colab": {
          "base_uri": "https://localhost:8080/"
        },
        "id": "DnqADPDW70eJ",
        "outputId": "1f014765-241e-4255-f0ff-99043b0a4508"
      },
      "execution_count": 49,
      "outputs": [
        {
          "output_type": "execute_result",
          "data": {
            "text/plain": [
              "2.5"
            ]
          },
          "metadata": {},
          "execution_count": 49
        }
      ]
    },
    {
      "cell_type": "code",
      "source": [
        "A.std()"
      ],
      "metadata": {
        "colab": {
          "base_uri": "https://localhost:8080/"
        },
        "id": "vyrSHV3E9Ap1",
        "outputId": "2a43de3a-1315-4110-a840-0a85e5167186"
      },
      "execution_count": 50,
      "outputs": [
        {
          "output_type": "execute_result",
          "data": {
            "text/plain": [
              "1.118033988749895"
            ]
          },
          "metadata": {},
          "execution_count": 50
        }
      ]
    },
    {
      "cell_type": "code",
      "source": [
        "np.median(A)"
      ],
      "metadata": {
        "colab": {
          "base_uri": "https://localhost:8080/"
        },
        "id": "iedPhI089B8L",
        "outputId": "91f95442-369c-446d-c9c5-7d41e5b858f6"
      },
      "execution_count": 51,
      "outputs": [
        {
          "output_type": "execute_result",
          "data": {
            "text/plain": [
              "2.5"
            ]
          },
          "metadata": {},
          "execution_count": 51
        }
      ]
    },
    {
      "cell_type": "code",
      "source": [
        "A.mean(axis=0)\n",
        "# A.std(axis=0)\n",
        "# A.sum(axis=0)"
      ],
      "metadata": {
        "colab": {
          "base_uri": "https://localhost:8080/"
        },
        "id": "nJuhp8A19Dru",
        "outputId": "df36d5f7-712e-4ca2-9e9b-e2ff82cd38be"
      },
      "execution_count": 52,
      "outputs": [
        {
          "output_type": "execute_result",
          "data": {
            "text/plain": [
              "array([2., 3.])"
            ]
          },
          "metadata": {},
          "execution_count": 52
        }
      ]
    },
    {
      "cell_type": "code",
      "source": [
        "#correlation matrix of two vector, or rows of matrix\n",
        "\n",
        "# Generate a random number generator with a fixed seed for reproducibility\n",
        "rng = np.random.default_rng(seed=42)\n",
        "xarr = rng.random((3, 3))\n",
        "\n",
        "# Calculate the correlation matrix of the rows of xarr\n",
        "R1 = np.corrcoef(xarr)"
      ],
      "metadata": {
        "id": "d5dol1Ae9LHV"
      },
      "execution_count": 55,
      "outputs": []
    },
    {
      "cell_type": "code",
      "source": [
        "u=np.array([1,2,3])\n",
        "v=np.array([4,5,6])\n",
        "np.corrcoef(u,v)"
      ],
      "metadata": {
        "colab": {
          "base_uri": "https://localhost:8080/"
        },
        "id": "C09ee2uuASPK",
        "outputId": "b5ae2840-4a0e-4e20-d483-1502d1477b7a"
      },
      "execution_count": 56,
      "outputs": [
        {
          "output_type": "execute_result",
          "data": {
            "text/plain": [
              "array([[1., 1.],\n",
              "       [1., 1.]])"
            ]
          },
          "metadata": {},
          "execution_count": 56
        }
      ]
    },
    {
      "cell_type": "code",
      "source": [
        "#Test whether any array element along a given axis evaluates to True\n",
        "np.any([[True, False], [False, False]], axis=0)"
      ],
      "metadata": {
        "colab": {
          "base_uri": "https://localhost:8080/"
        },
        "id": "FTnpc59wCCax",
        "outputId": "126e69c3-7853-4b0a-d893-4465b1a2de79"
      },
      "execution_count": 57,
      "outputs": [
        {
          "output_type": "execute_result",
          "data": {
            "text/plain": [
              "array([ True, False])"
            ]
          },
          "metadata": {},
          "execution_count": 57
        }
      ]
    },
    {
      "cell_type": "code",
      "source": [],
      "metadata": {
        "id": "UCUZhPdtCs7O"
      },
      "execution_count": null,
      "outputs": []
    }
  ]
}